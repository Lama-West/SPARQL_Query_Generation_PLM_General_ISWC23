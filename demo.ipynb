{
 "cells": [
  {
   "cell_type": "code",
   "execution_count": null,
   "metadata": {},
   "outputs": [],
   "source": [
    "from scripts.main import run_config\n",
    "from scripts.test_models import make_run\n",
    "from scripts.split import get_datasets, build_pattern_split, URI_pattern, build_template_split"
   ]
  },
  {
   "cell_type": "code",
   "execution_count": null,
   "metadata": {},
   "outputs": [],
   "source": [
    "# This cell run a training phase and a generation phase\n",
    "# Parameters:\n",
    "# model_name (string): cnn, transformer, t5, bart\n",
    "# use_copy (boolean): True, False\n",
    "# dataset_name (string): lacquad1, lcquad2, dbnqa\n",
    "# dataset_annotation (string): raw, tagged, linked\n",
    "# split_name (string): original, all_KB_elements_split, template_split\n",
    "# run (int): any run id, we used 1, 2 and 3\n",
    "# return_model (boolean): if set to True returns the instanciated model without running anything, only use for debbuging\n",
    "run_config(\"cnn\", False, \"lcquad1\", \"raw\", \"original\", 1)"
   ]
  },
  {
   "cell_type": "code",
   "execution_count": null,
   "metadata": {},
   "outputs": [],
   "source": [
    "# This cell run the evaluation (set the endpoint in scripts/query_function.py)\n",
    "# Parameters:\n",
    "# folder (string): the name of the folder where the report is saved \n",
    "# recompute_metric (boolean): if set to True, re-run the metric computation even if the final reports have already been requested\n",
    "# verbose (boolean): set wether if debug info should be printed\n",
    "# local: use the local enpoint or not for LC-QuAD 1.0 and DBNQA\n",
    "make_run(\"cnn_no_copy_lcquad1_raw_1\", True, False, False)"
   ]
  },
  {
   "cell_type": "code",
   "execution_count": null,
   "metadata": {},
   "outputs": [],
   "source": [
    "# This cell run the split algorithm for the split\n",
    "datasets = get_datasets()\n",
    "\n",
    "# Unknown URIs split\n",
    "# Parameters:\n",
    "# dataset (list): the dataset in the format of list of dictionary\n",
    "# pattern (string): a regular expresion used for defining the characterisitcs (we only use URI_pattern in our paper)\n",
    "# min_freq (int): the minimum frequency for an URI to be considered rare (we used 5 but most values between 3 and 100 could be used)\n",
    "# train_prop (float): the proportion of the dataset that must be in the train set\n",
    "# N_repeat (int): the number of times to run the algorithm in order to select one with low precision metric\n",
    "# seed (int): the random seed for the algorithm\n",
    "build_pattern_split(datasets[\"lcquad1\"], URI_pattern, 5, .8, 100, 0)\n",
    "\n",
    "\n",
    "# Unknown template split\n",
    "# Parameters:\n",
    "# dataset (list): the dataset in the format of list of dictionary\n",
    "# train_prop (float): the proportion of the dataset that must be in the train set\n",
    "# N_repeat (int): the number of times to run the algorithm in order to select one with low precision metric\n",
    "# seed (int): the random seed for the algorithm\n",
    "build_template_split(datasets[\"lcquad1\"], .8, 100, 0)"
   ]
  }
 ],
 "metadata": {
  "kernelspec": {
   "display_name": "base",
   "language": "python",
   "name": "python3"
  },
  "language_info": {
   "name": "python",
   "version": "3.9.5"
  },
  "orig_nbformat": 4
 },
 "nbformat": 4,
 "nbformat_minor": 2
}
